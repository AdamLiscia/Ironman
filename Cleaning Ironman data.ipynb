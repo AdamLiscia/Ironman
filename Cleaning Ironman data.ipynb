{
 "cells": [
  {
   "cell_type": "code",
   "execution_count": 192,
   "metadata": {},
   "outputs": [],
   "source": [
    "import pandas as pd \n",
    "import numpy as np \n",
    "import os\n",
    "from math import cos, sin, radians"
   ]
  },
  {
   "cell_type": "code",
   "execution_count": 151,
   "metadata": {},
   "outputs": [
    {
     "name": "stdout",
     "output_type": "stream",
     "text": [
      "['Kona Weather Data - All Years.csv', 'Runningman2008', 'Runningman2009', 'Runningman2014', 'Runningman2013', 'Runningman2012', 'Runningman2015', 'Runningman2010', 'Runningman2017', 'Runningman2016', 'Runningman2011', 'Runningman2018']\n"
     ]
    }
   ],
   "source": [
    "#get data file names for reading\n",
    "files = os.listdir('ironman/data')\n",
    "print(files)"
   ]
  },
  {
   "cell_type": "code",
   "execution_count": 23,
   "metadata": {},
   "outputs": [
    {
     "name": "stdout",
     "output_type": "stream",
     "text": [
      "['2008', '2009', '2014', '2013', '2012', '2015', '2010', '2017', '2016', '2011', '2018']\n"
     ]
    }
   ],
   "source": [
    "#create a dictionary of all weather dataframes \n",
    "df_dict = {}\n",
    "for filename in files: \n",
    "    if 'Run' in filename:\n",
    "        filepath = 'ironman/data/'+filename\n",
    "        df = pd.read_csv(filepath)\n",
    "        df_dict[filename[-4:]] = df\n",
    "print(list(df_dict.keys()))\n",
    "\n"
   ]
  },
  {
   "cell_type": "code",
   "execution_count": 222,
   "metadata": {},
   "outputs": [],
   "source": [
    "#add the year column to each dataframe\n",
    "for year,df in df_dict.items(): \n",
    "    df['Year'] = df.apply(lambda row: int(year), axis = 1)\n",
    "#concat the all year's data into one file\n",
    "dfs = list(df_dict.values())\n",
    "mega_data = pd.concat(dfs)"
   ]
  },
  {
   "cell_type": "code",
   "execution_count": null,
   "metadata": {},
   "outputs": [],
   "source": [
    "#Functions to clean data \n",
    "def find_good_rows(row): \n",
    "    if ':' in row['Swim'] and ':' in row['Bike'] and ':' in  row['Run']  and ':' in row['Finish']: \n",
    "        return True \n",
    "    else: \n",
    "        return False\n",
    "def convert_time(string): \n",
    "#     print(string)\n",
    "    string1 = string.split(':')\n",
    "    time = int(string1[0])*60 + int(string1[1])+ int(string1[2])/60\n",
    "#     print(string)\n",
    "    return round(time, 3)\n",
    "def add_weather_data(row, year): \n",
    "    weather_row = we[new_new_df['Good_row?']==True]\n",
    "def get_dummy_female(code): \n",
    "    if code == 1: \n",
    "        return 1\n",
    "    else: \n",
    "        return 0"
   ]
  },
  {
   "cell_type": "code",
   "execution_count": 187,
   "metadata": {},
   "outputs": [
    {
     "data": {
      "text/html": [
       "<div>\n",
       "<style scoped>\n",
       "    .dataframe tbody tr th:only-of-type {\n",
       "        vertical-align: middle;\n",
       "    }\n",
       "\n",
       "    .dataframe tbody tr th {\n",
       "        vertical-align: top;\n",
       "    }\n",
       "\n",
       "    .dataframe thead th {\n",
       "        text-align: right;\n",
       "    }\n",
       "</style>\n",
       "<table border=\"1\" class=\"dataframe\">\n",
       "  <thead>\n",
       "    <tr style=\"text-align: right;\">\n",
       "      <th></th>\n",
       "      <th>Year</th>\n",
       "      <th>Avg Temp</th>\n",
       "      <th>Hi Temp</th>\n",
       "      <th>Humidity</th>\n",
       "      <th>Wind Speed</th>\n",
       "      <th>Wind Direction</th>\n",
       "    </tr>\n",
       "  </thead>\n",
       "  <tbody>\n",
       "    <tr>\n",
       "      <th>0</th>\n",
       "      <td>2008</td>\n",
       "      <td>80.647</td>\n",
       "      <td>84</td>\n",
       "      <td>56.647</td>\n",
       "      <td>8.118</td>\n",
       "      <td>WSW</td>\n",
       "    </tr>\n",
       "    <tr>\n",
       "      <th>1</th>\n",
       "      <td>2009</td>\n",
       "      <td>83.556</td>\n",
       "      <td>87</td>\n",
       "      <td>63.000</td>\n",
       "      <td>8.389</td>\n",
       "      <td>WSW</td>\n",
       "    </tr>\n",
       "    <tr>\n",
       "      <th>2</th>\n",
       "      <td>2010</td>\n",
       "      <td>76.167</td>\n",
       "      <td>83</td>\n",
       "      <td>68.944</td>\n",
       "      <td>7.444</td>\n",
       "      <td>SW</td>\n",
       "    </tr>\n",
       "    <tr>\n",
       "      <th>3</th>\n",
       "      <td>2011</td>\n",
       "      <td>81.333</td>\n",
       "      <td>85</td>\n",
       "      <td>63.444</td>\n",
       "      <td>7.167</td>\n",
       "      <td>SW</td>\n",
       "    </tr>\n",
       "    <tr>\n",
       "      <th>4</th>\n",
       "      <td>2012</td>\n",
       "      <td>82.222</td>\n",
       "      <td>86</td>\n",
       "      <td>57.667</td>\n",
       "      <td>9.222</td>\n",
       "      <td>SW</td>\n",
       "    </tr>\n",
       "    <tr>\n",
       "      <th>5</th>\n",
       "      <td>2013</td>\n",
       "      <td>81.263</td>\n",
       "      <td>84</td>\n",
       "      <td>72.737</td>\n",
       "      <td>8.158</td>\n",
       "      <td>S</td>\n",
       "    </tr>\n",
       "    <tr>\n",
       "      <th>6</th>\n",
       "      <td>2014</td>\n",
       "      <td>82.500</td>\n",
       "      <td>86</td>\n",
       "      <td>62.389</td>\n",
       "      <td>8.500</td>\n",
       "      <td>SSW</td>\n",
       "    </tr>\n",
       "    <tr>\n",
       "      <th>7</th>\n",
       "      <td>2015</td>\n",
       "      <td>85.167</td>\n",
       "      <td>89</td>\n",
       "      <td>65.444</td>\n",
       "      <td>8.111</td>\n",
       "      <td>S</td>\n",
       "    </tr>\n",
       "    <tr>\n",
       "      <th>8</th>\n",
       "      <td>2016</td>\n",
       "      <td>83.238</td>\n",
       "      <td>88</td>\n",
       "      <td>65.429</td>\n",
       "      <td>8.429</td>\n",
       "      <td>S</td>\n",
       "    </tr>\n",
       "    <tr>\n",
       "      <th>9</th>\n",
       "      <td>2017</td>\n",
       "      <td>82.611</td>\n",
       "      <td>87</td>\n",
       "      <td>68.222</td>\n",
       "      <td>8.000</td>\n",
       "      <td>SSW</td>\n",
       "    </tr>\n",
       "    <tr>\n",
       "      <th>10</th>\n",
       "      <td>2018</td>\n",
       "      <td>79.913</td>\n",
       "      <td>83</td>\n",
       "      <td>79.000</td>\n",
       "      <td>5.957</td>\n",
       "      <td>W</td>\n",
       "    </tr>\n",
       "  </tbody>\n",
       "</table>\n",
       "</div>"
      ],
      "text/plain": [
       "    Year  Avg Temp  Hi Temp  Humidity  Wind Speed Wind Direction\n",
       "0   2008    80.647       84    56.647       8.118            WSW\n",
       "1   2009    83.556       87    63.000       8.389            WSW\n",
       "2   2010    76.167       83    68.944       7.444             SW\n",
       "3   2011    81.333       85    63.444       7.167             SW\n",
       "4   2012    82.222       86    57.667       9.222             SW\n",
       "5   2013    81.263       84    72.737       8.158              S\n",
       "6   2014    82.500       86    62.389       8.500            SSW\n",
       "7   2015    85.167       89    65.444       8.111              S\n",
       "8   2016    83.238       88    65.429       8.429              S\n",
       "9   2017    82.611       87    68.222       8.000            SSW\n",
       "10  2018    79.913       83    79.000       5.957              W"
      ]
     },
     "execution_count": 187,
     "metadata": {},
     "output_type": "execute_result"
    }
   ],
   "source": [
    "#read weather data\n",
    "weather = pd.read_csv('ironman/data/Kona Weather Data - All Years.csv')\n",
    "directions = weather['Wind Direction']\n",
    "# weather"
   ]
  },
  {
   "cell_type": "code",
   "execution_count": 260,
   "metadata": {},
   "outputs": [
    {
     "data": {
      "text/plain": [
       "(3.107, 7.5)"
      ]
     },
     "execution_count": 260,
     "metadata": {},
     "output_type": "execute_result"
    }
   ],
   "source": [
    "#function to create new windspeed variables\n",
    "def calc_x_y_speeds(d, speed): \n",
    "    angle_dict = {'WSW':radians(22.5), 'SW': radians(45), 'SSW':radians(67.5), 'S': radians(90), 'W': radians(0)}  \n",
    "    south = round(sin(angle_dict[d])*speed, 3)\n",
    "    west = round(cos(angle_dict[d])*speed, 3)\n",
    "    return south, west\n",
    "calc_x_y_speeds('WSW', 8.118)"
   ]
  },
  {
   "cell_type": "code",
   "execution_count": 198,
   "metadata": {},
   "outputs": [],
   "source": [
    "weather['West'] = weather.apply(lambda row: calc_x_y_speeds(row['Wind Direction'], row['Wind Speed'])[1], axis = 1)"
   ]
  },
  {
   "cell_type": "code",
   "execution_count": 199,
   "metadata": {},
   "outputs": [],
   "source": [
    "weather['South'] = weather.apply(lambda row: calc_x_y_speeds(row['Wind Direction'], row['Wind Speed'])[0], axis = 1)"
   ]
  },
  {
   "cell_type": "code",
   "execution_count": 261,
   "metadata": {},
   "outputs": [
    {
     "data": {
      "text/html": [
       "<div>\n",
       "<style scoped>\n",
       "    .dataframe tbody tr th:only-of-type {\n",
       "        vertical-align: middle;\n",
       "    }\n",
       "\n",
       "    .dataframe tbody tr th {\n",
       "        vertical-align: top;\n",
       "    }\n",
       "\n",
       "    .dataframe thead th {\n",
       "        text-align: right;\n",
       "    }\n",
       "</style>\n",
       "<table border=\"1\" class=\"dataframe\">\n",
       "  <thead>\n",
       "    <tr style=\"text-align: right;\">\n",
       "      <th></th>\n",
       "      <th>Year</th>\n",
       "      <th>Avg Temp</th>\n",
       "      <th>Hi Temp</th>\n",
       "      <th>Humidity</th>\n",
       "      <th>Wind Speed</th>\n",
       "      <th>Wind Direction</th>\n",
       "      <th>West</th>\n",
       "      <th>South</th>\n",
       "    </tr>\n",
       "  </thead>\n",
       "  <tbody>\n",
       "    <tr>\n",
       "      <th>0</th>\n",
       "      <td>2008</td>\n",
       "      <td>80.647</td>\n",
       "      <td>84</td>\n",
       "      <td>56.647</td>\n",
       "      <td>8.118</td>\n",
       "      <td>WSW</td>\n",
       "      <td>7.500</td>\n",
       "      <td>3.107</td>\n",
       "    </tr>\n",
       "    <tr>\n",
       "      <th>1</th>\n",
       "      <td>2009</td>\n",
       "      <td>83.556</td>\n",
       "      <td>87</td>\n",
       "      <td>63.000</td>\n",
       "      <td>8.389</td>\n",
       "      <td>WSW</td>\n",
       "      <td>7.750</td>\n",
       "      <td>3.210</td>\n",
       "    </tr>\n",
       "    <tr>\n",
       "      <th>2</th>\n",
       "      <td>2010</td>\n",
       "      <td>76.167</td>\n",
       "      <td>83</td>\n",
       "      <td>68.944</td>\n",
       "      <td>7.444</td>\n",
       "      <td>SW</td>\n",
       "      <td>5.264</td>\n",
       "      <td>5.264</td>\n",
       "    </tr>\n",
       "    <tr>\n",
       "      <th>3</th>\n",
       "      <td>2011</td>\n",
       "      <td>81.333</td>\n",
       "      <td>85</td>\n",
       "      <td>63.444</td>\n",
       "      <td>7.167</td>\n",
       "      <td>SW</td>\n",
       "      <td>5.068</td>\n",
       "      <td>5.068</td>\n",
       "    </tr>\n",
       "    <tr>\n",
       "      <th>4</th>\n",
       "      <td>2012</td>\n",
       "      <td>82.222</td>\n",
       "      <td>86</td>\n",
       "      <td>57.667</td>\n",
       "      <td>9.222</td>\n",
       "      <td>SW</td>\n",
       "      <td>6.521</td>\n",
       "      <td>6.521</td>\n",
       "    </tr>\n",
       "    <tr>\n",
       "      <th>5</th>\n",
       "      <td>2013</td>\n",
       "      <td>81.263</td>\n",
       "      <td>84</td>\n",
       "      <td>72.737</td>\n",
       "      <td>8.158</td>\n",
       "      <td>S</td>\n",
       "      <td>0.000</td>\n",
       "      <td>8.158</td>\n",
       "    </tr>\n",
       "    <tr>\n",
       "      <th>6</th>\n",
       "      <td>2014</td>\n",
       "      <td>82.500</td>\n",
       "      <td>86</td>\n",
       "      <td>62.389</td>\n",
       "      <td>8.500</td>\n",
       "      <td>SSW</td>\n",
       "      <td>3.253</td>\n",
       "      <td>7.853</td>\n",
       "    </tr>\n",
       "    <tr>\n",
       "      <th>7</th>\n",
       "      <td>2015</td>\n",
       "      <td>85.167</td>\n",
       "      <td>89</td>\n",
       "      <td>65.444</td>\n",
       "      <td>8.111</td>\n",
       "      <td>S</td>\n",
       "      <td>0.000</td>\n",
       "      <td>8.111</td>\n",
       "    </tr>\n",
       "    <tr>\n",
       "      <th>8</th>\n",
       "      <td>2016</td>\n",
       "      <td>83.238</td>\n",
       "      <td>88</td>\n",
       "      <td>65.429</td>\n",
       "      <td>8.429</td>\n",
       "      <td>S</td>\n",
       "      <td>0.000</td>\n",
       "      <td>8.429</td>\n",
       "    </tr>\n",
       "    <tr>\n",
       "      <th>9</th>\n",
       "      <td>2017</td>\n",
       "      <td>82.611</td>\n",
       "      <td>87</td>\n",
       "      <td>68.222</td>\n",
       "      <td>8.000</td>\n",
       "      <td>SSW</td>\n",
       "      <td>3.061</td>\n",
       "      <td>7.391</td>\n",
       "    </tr>\n",
       "    <tr>\n",
       "      <th>10</th>\n",
       "      <td>2018</td>\n",
       "      <td>79.913</td>\n",
       "      <td>83</td>\n",
       "      <td>79.000</td>\n",
       "      <td>5.957</td>\n",
       "      <td>W</td>\n",
       "      <td>5.957</td>\n",
       "      <td>0.000</td>\n",
       "    </tr>\n",
       "  </tbody>\n",
       "</table>\n",
       "</div>"
      ],
      "text/plain": [
       "    Year  Avg Temp  Hi Temp  Humidity  Wind Speed Wind Direction   West  South\n",
       "0   2008    80.647       84    56.647       8.118            WSW  7.500  3.107\n",
       "1   2009    83.556       87    63.000       8.389            WSW  7.750  3.210\n",
       "2   2010    76.167       83    68.944       7.444             SW  5.264  5.264\n",
       "3   2011    81.333       85    63.444       7.167             SW  5.068  5.068\n",
       "4   2012    82.222       86    57.667       9.222             SW  6.521  6.521\n",
       "5   2013    81.263       84    72.737       8.158              S  0.000  8.158\n",
       "6   2014    82.500       86    62.389       8.500            SSW  3.253  7.853\n",
       "7   2015    85.167       89    65.444       8.111              S  0.000  8.111\n",
       "8   2016    83.238       88    65.429       8.429              S  0.000  8.429\n",
       "9   2017    82.611       87    68.222       8.000            SSW  3.061  7.391\n",
       "10  2018    79.913       83    79.000       5.957              W  5.957  0.000"
      ]
     },
     "execution_count": 261,
     "metadata": {},
     "output_type": "execute_result"
    }
   ],
   "source": [
    "weather"
   ]
  },
  {
   "cell_type": "code",
   "execution_count": 252,
   "metadata": {},
   "outputs": [],
   "source": [
    "#Functions to clean data \n",
    "def find_good_rows(row): \n",
    "    if ':' in row['Swim'] and ':' in row['Bike'] and ':' in  row['Run']  and ':' in row['Finish']: \n",
    "        return True \n",
    "    else: \n",
    "        return False\n",
    "def convert_time(string): \n",
    "#     print(string)\n",
    "    string1 = string.split(':')\n",
    "    time = int(string1[0])*60 + int(string1[1])+ int(string1[2])/60\n",
    "#     print(string)\n",
    "    return round(time, 3)\n",
    "def add_weather_data(row, year): \n",
    "    weather_row = we[new_new_df['Good_row?']==True]\n",
    "def get_dummy_female(code): \n",
    "    if code == 1: \n",
    "        return 1\n",
    "    else: \n",
    "        return 0"
   ]
  },
  {
   "cell_type": "code",
   "execution_count": null,
   "metadata": {},
   "outputs": [],
   "source": [
    "#### SUMMARY OF DATA CLEANING\n",
    "#check for rows with bad data\n",
    "mega_data['Good_row?'] = mega_data.apply(lambda row:find_good_rows(row), axis=1)\n",
    "create\n",
    "#new df with only good rows\n",
    "mega_data2 = mega_data[mega_data['Good_row?']==True]\n",
    "#set of column names that we want.\n",
    "columns = ('Name', 'Country', 'Swim', 'Bike', 'Run', 'Finish', 'Agegroup','Gender', 'Year')\n",
    "#new df with only the columnns of interest\n",
    "mega_data3 = mega_data2.loc[:, ('Name', 'Country', 'Swim', 'Bike', 'Run', 'Finish', 'Agegroup','Gender', 'Year')]\n",
    "#adding new rows with time strings converted into minutes \n",
    "mega_data3['finish'] = np.array([convert_time(time) for time in mega_data3.Finish])\n",
    "mega_data3['swim'] = np.array([convert_time(time) for time in mega_data3.Swim])\n",
    "mega_data3['bike'] = np.array([convert_time(time) for time in mega_data3.Bike])\n",
    "mega_data3['run'] = np.array([convert_time(time) for time in mega_data3.Run])\n",
    "#new df with the converted times \n",
    "mega_data4 = mega_data3.loc[:, ('Name', 'Country', 'swim', 'bike', 'run', 'finish', 'Agegroup','Gender', 'Year')]\n",
    "#merge weather data with runningman data\n",
    "mega_data5 = mega_data4.merge(weather, how = 'outer', on = \"Year\")\n",
    "#creating dummy variable for gender female=1, male=1\n",
    "mega_data5['Female'] = np.array([get_dummy_female(x) for x in mega_data5.Gender])\n"
   ]
  },
  {
   "cell_type": "code",
   "execution_count": 228,
   "metadata": {},
   "outputs": [],
   "source": [
    "mega_data['Good_row?'] = mega_data.apply(lambda row:find_good_rows(row), axis=1)\n"
   ]
  },
  {
   "cell_type": "code",
   "execution_count": 233,
   "metadata": {},
   "outputs": [],
   "source": [
    "columns = ['Name', 'Country', 'Swim', 'Bike', 'Run', 'Finish', 'Agegroup','Gender', 'Year']"
   ]
  },
  {
   "cell_type": "code",
   "execution_count": 230,
   "metadata": {},
   "outputs": [],
   "source": [
    "# mega_data"
   ]
  },
  {
   "cell_type": "code",
   "execution_count": 231,
   "metadata": {},
   "outputs": [],
   "source": [
    "mega_data2 = mega_data[mega_data['Good_row?']==True]"
   ]
  },
  {
   "cell_type": "code",
   "execution_count": 234,
   "metadata": {},
   "outputs": [],
   "source": [
    "mega_data3 = mega_data2.loc[:, ('Name', 'Country', 'Swim', 'Bike', 'Run', 'Finish', 'Agegroup','Gender', 'Year')]"
   ]
  },
  {
   "cell_type": "code",
   "execution_count": 243,
   "metadata": {},
   "outputs": [],
   "source": [
    "mega_data3['finish'] = np.array([convert_time(time) for time in mega_data3.Finish])\n",
    "mega_data3['swim'] = np.array([convert_time(time) for time in mega_data3.Swim])\n",
    "mega_data3['bike'] = np.array([convert_time(time) for time in mega_data3.Bike])\n",
    "mega_data3['run'] = np.array([convert_time(time) for time in mega_data3.Run])"
   ]
  },
  {
   "cell_type": "code",
   "execution_count": 248,
   "metadata": {},
   "outputs": [],
   "source": [
    "mega_data4 = mega_data3.loc[:, ('Name', 'Country', 'swim', 'bike', 'run', 'finish', 'Agegroup','Gender', 'Year')]\n"
   ]
  },
  {
   "cell_type": "code",
   "execution_count": 250,
   "metadata": {},
   "outputs": [],
   "source": [
    "mega_data5 = mega_data4.merge(weather, how = 'outer', on = \"Year\")"
   ]
  },
  {
   "cell_type": "code",
   "execution_count": 255,
   "metadata": {},
   "outputs": [],
   "source": [
    "mega_data5['Female'] = np.array([get_dummy_female(x) for x in mega_data5.Gender])"
   ]
  },
  {
   "cell_type": "code",
   "execution_count": 256,
   "metadata": {},
   "outputs": [],
   "source": [
    "#create csv file with mega_data \n",
    "mega_data5.to_csv('ironman/data/mega_data')"
   ]
  },
  {
   "cell_type": "code",
   "execution_count": null,
   "metadata": {},
   "outputs": [],
   "source": [
    "#writing new weather dataframe to pandas\n",
    "weather.to_csv('ironman/data/weather_final')"
   ]
  }
 ],
 "metadata": {
  "kernelspec": {
   "display_name": "Python 3",
   "language": "python",
   "name": "python3"
  },
  "language_info": {
   "codemirror_mode": {
    "name": "ipython",
    "version": 3
   },
   "file_extension": ".py",
   "mimetype": "text/x-python",
   "name": "python",
   "nbconvert_exporter": "python",
   "pygments_lexer": "ipython3",
   "version": "3.7.0"
  }
 },
 "nbformat": 4,
 "nbformat_minor": 2
}
